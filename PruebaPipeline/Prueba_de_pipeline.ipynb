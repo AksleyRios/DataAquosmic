{
  "nbformat": 4,
  "nbformat_minor": 0,
  "metadata": {
    "colab": {
      "name": "Prueba de pipeline.ipynb",
      "provenance": [],
      "include_colab_link": true
    },
    "kernelspec": {
      "name": "python3",
      "display_name": "Python 3"
    },
    "language_info": {
      "name": "python"
    }
  },
  "cells": [
    {
      "cell_type": "markdown",
      "metadata": {
        "id": "view-in-github",
        "colab_type": "text"
      },
      "source": [
        "<a href=\"https://colab.research.google.com/github/AksleyRios/DataAquosmic/blob/main/PruebaPipeline/Prueba_de_pipeline.ipynb\" target=\"_parent\"><img src=\"https://colab.research.google.com/assets/colab-badge.svg\" alt=\"Open In Colab\"/></a>"
      ]
    },
    {
      "cell_type": "markdown",
      "source": [
        "#Imports/preparación"
      ],
      "metadata": {
        "id": "e-3l4jypTkgU"
      }
    },
    {
      "cell_type": "code",
      "execution_count": 1,
      "metadata": {
        "id": "iVbH3NqSROQp",
        "outputId": "cfbaa950-4fac-4a24-ab77-3e89f3bdf620",
        "colab": {
          "base_uri": "https://localhost:8080/"
        }
      },
      "outputs": [
        {
          "output_type": "stream",
          "name": "stdout",
          "text": [
            "Looking in indexes: https://pypi.org/simple, https://us-python.pkg.dev/colab-wheels/public/simple/\n",
            "Requirement already satisfied: openpyxl in /usr/local/lib/python3.7/dist-packages (3.0.10)\n",
            "Requirement already satisfied: et-xmlfile in /usr/local/lib/python3.7/dist-packages (from openpyxl) (1.1.0)\n",
            "Looking in indexes: https://pypi.org/simple, https://us-python.pkg.dev/colab-wheels/public/simple/\n",
            "Collecting utm\n",
            "  Downloading utm-0.7.0.tar.gz (8.7 kB)\n",
            "Building wheels for collected packages: utm\n",
            "  Building wheel for utm (setup.py) ... \u001b[?25l\u001b[?25hdone\n",
            "  Created wheel for utm: filename=utm-0.7.0-py3-none-any.whl size=6108 sha256=ee181ce7933e7605b2b45c0c790d60e1642ec270a6c3b0cef5a272461c7690d0\n",
            "  Stored in directory: /root/.cache/pip/wheels/a5/b0/12/7ee4fdb0f9fbb4157100bd02390436ed5d58ebfd3c6d6a0886\n",
            "Successfully built utm\n",
            "Installing collected packages: utm\n",
            "Successfully installed utm-0.7.0\n"
          ]
        }
      ],
      "source": [
        "!pip install openpyxl --upgrade\n",
        "!pip install utm\n",
        "import pandas as pd\n",
        "import numpy as np \n",
        "from datetime import datetime\n",
        "import ee\n",
        "import utm\n",
        "import pickle"
      ]
    },
    {
      "cell_type": "code",
      "source": [
        "!earthengine authenticate"
      ],
      "metadata": {
        "id": "HDffyl15Tpd4",
        "outputId": "4bde99a1-15fa-4644-f590-9acd69929d69",
        "colab": {
          "base_uri": "https://localhost:8080/"
        }
      },
      "execution_count": 2,
      "outputs": [
        {
          "output_type": "stream",
          "name": "stdout",
          "text": [
            "To authorize access needed by Earth Engine, open the following URL in a web browser and follow the instructions. If the web browser does not start automatically, please manually browse the URL below.\n",
            "\n",
            "    https://code.earthengine.google.com/client-auth?scopes=https%3A//www.googleapis.com/auth/earthengine%20https%3A//www.googleapis.com/auth/devstorage.full_control&request_id=6aKi3kICMBaizfpyDhPKddYFhfynd0nm_XJwqNAgRnU&tc=Jzuh9OmtnANI9r4jLSse7CjXG5rOVXPTlHWa5K2uVCo&cc=qHSEUsEast5RFe1vHsW087KP3Av-IfvCyPrcACjE6SQ\n",
            "\n",
            "The authorization workflow will generate a code, which you should paste in the box below. \n",
            "Enter verification code: 4/1AX4XfWiNXWmu4mJjTxmR0Gqkly-lBY9Pu5aILxS_VNy2xXXScmLLDtqfEmE\n",
            "\n",
            "Successfully saved authorization token.\n"
          ]
        }
      ]
    },
    {
      "cell_type": "code",
      "source": [
        "ee.Initialize()"
      ],
      "metadata": {
        "id": "Tz7QGJwTTrnV"
      },
      "execution_count": 3,
      "outputs": []
    },
    {
      "cell_type": "markdown",
      "source": [
        "#Recopilación de datos"
      ],
      "metadata": {
        "id": "ExZZ8DRoZunW"
      }
    },
    {
      "cell_type": "markdown",
      "source": [
        "##Longitud, Latitud y Fecha"
      ],
      "metadata": {
        "id": "KTPDROTGZxSs"
      }
    },
    {
      "cell_type": "code",
      "source": [
        "lonarr=[]\n",
        "latarr=[]\n",
        "datearr=[]\n",
        "print(\"¿Cuántos puntos tienes?\")\n",
        "n=input()\n",
        "for i in range(0,int(n)):\n",
        "  print(\"Longitud:\")\n",
        "  lon=input()\n",
        "  lonarr.append(float(lon))\n",
        "  print(\"Latitud:\")\n",
        "  lat=input()\n",
        "  latarr.append(float(lat))\n",
        "  print(\"Día:\")\n",
        "  day=input()\n",
        "  print(\"Mes:\")\n",
        "  month=input()\n",
        "  print(\"Año (YYYY):\")\n",
        "  year=input()\n",
        "  date=year+'-'+month+'-'+day\n",
        "  print(date)\n",
        "  date=datetime.strptime(date, '%Y-%m-%d')\n",
        "  datearr.append(date)\n",
        "lon_pd = pd.DataFrame(lonarr)\n",
        "lon_pd.columns = ['Lon']\n",
        "lat_pd = pd.DataFrame(latarr)\n",
        "lat_pd.columns = ['Lat']\n",
        "date_pd = pd.DataFrame(datearr)\n",
        "date_pd.columns = ['Date']\n",
        "Base=lon_pd.join(lat_pd)\n",
        "Base=Base.join(date_pd)\n",
        "Base"
      ],
      "metadata": {
        "id": "4Upbnv96Ts0P",
        "outputId": "b6dfdeae-8e2b-4081-9f73-d31c2889d93e",
        "colab": {
          "base_uri": "https://localhost:8080/",
          "height": 318
        }
      },
      "execution_count": 30,
      "outputs": [
        {
          "output_type": "stream",
          "name": "stdout",
          "text": [
            "¿Cuántos puntos tienes?\n",
            "1\n",
            "Longitud:\n",
            "-102.465\n",
            "Latitud:\n",
            "22.18899\n",
            "Día:\n",
            "28\n",
            "Mes:\n",
            "04\n",
            "Año (YYYY):\n",
            "2016\n",
            "2016-04-28\n"
          ]
        },
        {
          "output_type": "execute_result",
          "data": {
            "text/plain": [
              "       Lon       Lat       Date\n",
              "0 -102.465  22.18899 2016-04-28"
            ],
            "text/html": [
              "\n",
              "  <div id=\"df-986c2fea-2e20-4235-8e8d-4c8d4672068f\">\n",
              "    <div class=\"colab-df-container\">\n",
              "      <div>\n",
              "<style scoped>\n",
              "    .dataframe tbody tr th:only-of-type {\n",
              "        vertical-align: middle;\n",
              "    }\n",
              "\n",
              "    .dataframe tbody tr th {\n",
              "        vertical-align: top;\n",
              "    }\n",
              "\n",
              "    .dataframe thead th {\n",
              "        text-align: right;\n",
              "    }\n",
              "</style>\n",
              "<table border=\"1\" class=\"dataframe\">\n",
              "  <thead>\n",
              "    <tr style=\"text-align: right;\">\n",
              "      <th></th>\n",
              "      <th>Lon</th>\n",
              "      <th>Lat</th>\n",
              "      <th>Date</th>\n",
              "    </tr>\n",
              "  </thead>\n",
              "  <tbody>\n",
              "    <tr>\n",
              "      <th>0</th>\n",
              "      <td>-102.465</td>\n",
              "      <td>22.18899</td>\n",
              "      <td>2016-04-28</td>\n",
              "    </tr>\n",
              "  </tbody>\n",
              "</table>\n",
              "</div>\n",
              "      <button class=\"colab-df-convert\" onclick=\"convertToInteractive('df-986c2fea-2e20-4235-8e8d-4c8d4672068f')\"\n",
              "              title=\"Convert this dataframe to an interactive table.\"\n",
              "              style=\"display:none;\">\n",
              "        \n",
              "  <svg xmlns=\"http://www.w3.org/2000/svg\" height=\"24px\"viewBox=\"0 0 24 24\"\n",
              "       width=\"24px\">\n",
              "    <path d=\"M0 0h24v24H0V0z\" fill=\"none\"/>\n",
              "    <path d=\"M18.56 5.44l.94 2.06.94-2.06 2.06-.94-2.06-.94-.94-2.06-.94 2.06-2.06.94zm-11 1L8.5 8.5l.94-2.06 2.06-.94-2.06-.94L8.5 2.5l-.94 2.06-2.06.94zm10 10l.94 2.06.94-2.06 2.06-.94-2.06-.94-.94-2.06-.94 2.06-2.06.94z\"/><path d=\"M17.41 7.96l-1.37-1.37c-.4-.4-.92-.59-1.43-.59-.52 0-1.04.2-1.43.59L10.3 9.45l-7.72 7.72c-.78.78-.78 2.05 0 2.83L4 21.41c.39.39.9.59 1.41.59.51 0 1.02-.2 1.41-.59l7.78-7.78 2.81-2.81c.8-.78.8-2.07 0-2.86zM5.41 20L4 18.59l7.72-7.72 1.47 1.35L5.41 20z\"/>\n",
              "  </svg>\n",
              "      </button>\n",
              "      \n",
              "  <style>\n",
              "    .colab-df-container {\n",
              "      display:flex;\n",
              "      flex-wrap:wrap;\n",
              "      gap: 12px;\n",
              "    }\n",
              "\n",
              "    .colab-df-convert {\n",
              "      background-color: #E8F0FE;\n",
              "      border: none;\n",
              "      border-radius: 50%;\n",
              "      cursor: pointer;\n",
              "      display: none;\n",
              "      fill: #1967D2;\n",
              "      height: 32px;\n",
              "      padding: 0 0 0 0;\n",
              "      width: 32px;\n",
              "    }\n",
              "\n",
              "    .colab-df-convert:hover {\n",
              "      background-color: #E2EBFA;\n",
              "      box-shadow: 0px 1px 2px rgba(60, 64, 67, 0.3), 0px 1px 3px 1px rgba(60, 64, 67, 0.15);\n",
              "      fill: #174EA6;\n",
              "    }\n",
              "\n",
              "    [theme=dark] .colab-df-convert {\n",
              "      background-color: #3B4455;\n",
              "      fill: #D2E3FC;\n",
              "    }\n",
              "\n",
              "    [theme=dark] .colab-df-convert:hover {\n",
              "      background-color: #434B5C;\n",
              "      box-shadow: 0px 1px 3px 1px rgba(0, 0, 0, 0.15);\n",
              "      filter: drop-shadow(0px 1px 2px rgba(0, 0, 0, 0.3));\n",
              "      fill: #FFFFFF;\n",
              "    }\n",
              "  </style>\n",
              "\n",
              "      <script>\n",
              "        const buttonEl =\n",
              "          document.querySelector('#df-986c2fea-2e20-4235-8e8d-4c8d4672068f button.colab-df-convert');\n",
              "        buttonEl.style.display =\n",
              "          google.colab.kernel.accessAllowed ? 'block' : 'none';\n",
              "\n",
              "        async function convertToInteractive(key) {\n",
              "          const element = document.querySelector('#df-986c2fea-2e20-4235-8e8d-4c8d4672068f');\n",
              "          const dataTable =\n",
              "            await google.colab.kernel.invokeFunction('convertToInteractive',\n",
              "                                                     [key], {});\n",
              "          if (!dataTable) return;\n",
              "\n",
              "          const docLinkHtml = 'Like what you see? Visit the ' +\n",
              "            '<a target=\"_blank\" href=https://colab.research.google.com/notebooks/data_table.ipynb>data table notebook</a>'\n",
              "            + ' to learn more about interactive tables.';\n",
              "          element.innerHTML = '';\n",
              "          dataTable['output_type'] = 'display_data';\n",
              "          await google.colab.output.renderOutput(dataTable, element);\n",
              "          const docLink = document.createElement('div');\n",
              "          docLink.innerHTML = docLinkHtml;\n",
              "          element.appendChild(docLink);\n",
              "        }\n",
              "      </script>\n",
              "    </div>\n",
              "  </div>\n",
              "  "
            ]
          },
          "metadata": {},
          "execution_count": 30
        }
      ]
    },
    {
      "cell_type": "markdown",
      "source": [
        "##Bandas"
      ],
      "metadata": {
        "id": "16mhJNLhZz4z"
      }
    },
    {
      "cell_type": "code",
      "source": [
        "date_plus = []\n",
        "data_1f = Base.reset_index()  # make sure indexes pair with number of rows\n",
        "\n",
        "\n",
        "for index, row in data_1f.iterrows():\n",
        "    date_row = row['Date']\n",
        "    date_plus.append(date_row)\n",
        "\n",
        "\n",
        "date_pd = pd.DataFrame(date_plus)\n",
        "date_pd.columns = ['Date_ref']\n",
        "\n",
        "data_1j = Base.join(date_pd)\n",
        "\n",
        "data_1j['Date_plus'] = data_1j['Date_ref'] + pd.DateOffset(months=1)\n",
        "data_1j['Date_less'] = data_1j['Date_ref'] + pd.DateOffset(months=-1)\n",
        "\n",
        "data_1j.info()"
      ],
      "metadata": {
        "id": "5xNLJTEdU60_",
        "outputId": "2d87d396-9faf-4be7-cefd-10deea89c9d3",
        "colab": {
          "base_uri": "https://localhost:8080/"
        }
      },
      "execution_count": 31,
      "outputs": [
        {
          "output_type": "stream",
          "name": "stdout",
          "text": [
            "<class 'pandas.core.frame.DataFrame'>\n",
            "RangeIndex: 1 entries, 0 to 0\n",
            "Data columns (total 6 columns):\n",
            " #   Column     Non-Null Count  Dtype         \n",
            "---  ------     --------------  -----         \n",
            " 0   Lon        1 non-null      float64       \n",
            " 1   Lat        1 non-null      float64       \n",
            " 2   Date       1 non-null      datetime64[ns]\n",
            " 3   Date_ref   1 non-null      datetime64[ns]\n",
            " 4   Date_plus  1 non-null      datetime64[ns]\n",
            " 5   Date_less  1 non-null      datetime64[ns]\n",
            "dtypes: datetime64[ns](4), float64(2)\n",
            "memory usage: 176.0 bytes\n"
          ]
        }
      ]
    },
    {
      "cell_type": "code",
      "source": [
        "B1 = []\n",
        "B2 = []\n",
        "B3 = []\n",
        "B4 = []\n",
        "B5 = []\n",
        "B6 = []\n",
        "B7 = []\n",
        "B8 = []\n",
        "B9 = []\n",
        "B10 = []\n",
        "B11 = []\n",
        "ActDate = []\n",
        "\n",
        "#https://developers.google.com/earth-engine/datasets/catalog/LANDSAT_LC08_C02_T1\n",
        "landsat = ee.ImageCollection('LANDSAT/LC08/C02/T1')\n",
        "for index, row in data_1j.iterrows():\n",
        "  try:\n",
        "    landsat_1f = landsat.filterDate(row['Date_less'],row['Date_plus'])\n",
        "    Image_a = ee.Image(landsat_1f.filterBounds(ee.Geometry.Point([row['Lon'], row['Lat']])).sort('CLOUD_COVER').first())\n",
        "    p = ee.Geometry.Point(row['Lon'], row['Lat'])\n",
        "    meanDictionary = Image_a.reduceRegion(reducer=ee.Reducer.mean(), geometry=p, scale=1)\n",
        "    u = meanDictionary.getInfo()\n",
        "    B1.append(u['B1'])\n",
        "    B2.append(u['B2'])\n",
        "    B3.append(u['B3'])\n",
        "    B4.append(u['B4'])\n",
        "    B5.append(u['B5'])\n",
        "    B6.append(u['B6'])\n",
        "    B7.append(u['B7'])\n",
        "    B8.append(u['B8'])\n",
        "    B9.append(u['B9'])\n",
        "    B10.append(u['B10'])\n",
        "    B11.append(u['B11'])\n",
        "    date1 = ee.Date(landsat_1f.filterBounds(ee.Geometry.Point([row['Lon'], row['Lat']])).sort('CLOUD_COVER').first().get('system:time_start'))\n",
        "    date2 = date1.format('Y-MM-dd').getInfo()\n",
        "    ActDate.append(date2)\n",
        "    print(index)\n",
        "  except:\n",
        "    B1.append('')\n",
        "    B2.append('')\n",
        "    B3.append('')\n",
        "    B4.append('')\n",
        "    B5.append('')\n",
        "    B6.append('')\n",
        "    B7.append('')\n",
        "    B8.append('')\n",
        "    B9.append('')\n",
        "    B10.append('')\n",
        "    B11.append('')\n",
        "    ActDate.append('')\n",
        "\n",
        "b1_pd = pd.DataFrame(B1)\n",
        "b1_pd.columns = ['B1']\n",
        "b2_pd = pd.DataFrame(B2)\n",
        "b2_pd.columns = ['B2']\n",
        "b3_pd = pd.DataFrame(B3)\n",
        "b3_pd.columns = ['B3']\n",
        "b4_pd = pd.DataFrame(B4)\n",
        "b4_pd.columns = ['B4']\n",
        "b5_pd = pd.DataFrame(B5)\n",
        "b5_pd.columns = ['B5']\n",
        "b6_pd = pd.DataFrame(B6)\n",
        "b6_pd.columns = ['B6']\n",
        "b7_pd = pd.DataFrame(B7)\n",
        "b7_pd.columns = ['B7']\n",
        "b8_pd = pd.DataFrame(B8)\n",
        "b8_pd.columns = ['B8']\n",
        "b9_pd = pd.DataFrame(B9)\n",
        "b9_pd.columns = ['B9']\n",
        "b10_pd = pd.DataFrame(B10)\n",
        "b10_pd.columns = ['B10']\n",
        "b11_pd = pd.DataFrame(B11)\n",
        "b11_pd.columns = ['B11']\n",
        "actdate_pd = pd.DataFrame(ActDate)\n",
        "actdate_pd.columns = ['Actual_Date']\n",
        "\n",
        "data_2j = data_1j.join(actdate_pd)\n",
        "data_2j = data_2j.join(b1_pd)\n",
        "data_2j = data_2j.join(b2_pd)\n",
        "data_2j = data_2j.join(b3_pd)\n",
        "data_2j = data_2j.join(b4_pd)\n",
        "data_2j = data_2j.join(b5_pd)\n",
        "data_2j = data_2j.join(b6_pd)\n",
        "data_2j = data_2j.join(b7_pd)\n",
        "data_2j = data_2j.join(b8_pd)\n",
        "data_2j = data_2j.join(b9_pd)\n",
        "data_2j = data_2j.join(b10_pd)\n",
        "data_2j = data_2j.join(b11_pd)\n",
        "\n",
        "BaseLimpiaBandas=data_2j\n",
        "BaseLimpiaBandas"
      ],
      "metadata": {
        "id": "7dOxjsiAU9FH",
        "outputId": "1dde53c8-c330-4372-9c3c-12a3999955a1",
        "colab": {
          "base_uri": "https://localhost:8080/",
          "height": 99
        }
      },
      "execution_count": 32,
      "outputs": [
        {
          "output_type": "stream",
          "name": "stdout",
          "text": [
            "0\n"
          ]
        },
        {
          "output_type": "execute_result",
          "data": {
            "text/plain": [
              "       Lon       Lat       Date   Date_ref  Date_plus  Date_less Actual_Date  \\\n",
              "0 -102.465  22.18899 2016-04-28 2016-04-28 2016-05-28 2016-03-28  2016-05-17   \n",
              "\n",
              "      B1     B2     B3     B4     B5     B6     B7     B8    B9    B10    B11  \n",
              "0  11190  10822  10862  11626  14167  16506  13966  12407  5222  31434  28510  "
            ],
            "text/html": [
              "\n",
              "  <div id=\"df-19f4064e-569d-420a-bbfe-1122170e74cd\">\n",
              "    <div class=\"colab-df-container\">\n",
              "      <div>\n",
              "<style scoped>\n",
              "    .dataframe tbody tr th:only-of-type {\n",
              "        vertical-align: middle;\n",
              "    }\n",
              "\n",
              "    .dataframe tbody tr th {\n",
              "        vertical-align: top;\n",
              "    }\n",
              "\n",
              "    .dataframe thead th {\n",
              "        text-align: right;\n",
              "    }\n",
              "</style>\n",
              "<table border=\"1\" class=\"dataframe\">\n",
              "  <thead>\n",
              "    <tr style=\"text-align: right;\">\n",
              "      <th></th>\n",
              "      <th>Lon</th>\n",
              "      <th>Lat</th>\n",
              "      <th>Date</th>\n",
              "      <th>Date_ref</th>\n",
              "      <th>Date_plus</th>\n",
              "      <th>Date_less</th>\n",
              "      <th>Actual_Date</th>\n",
              "      <th>B1</th>\n",
              "      <th>B2</th>\n",
              "      <th>B3</th>\n",
              "      <th>B4</th>\n",
              "      <th>B5</th>\n",
              "      <th>B6</th>\n",
              "      <th>B7</th>\n",
              "      <th>B8</th>\n",
              "      <th>B9</th>\n",
              "      <th>B10</th>\n",
              "      <th>B11</th>\n",
              "    </tr>\n",
              "  </thead>\n",
              "  <tbody>\n",
              "    <tr>\n",
              "      <th>0</th>\n",
              "      <td>-102.465</td>\n",
              "      <td>22.18899</td>\n",
              "      <td>2016-04-28</td>\n",
              "      <td>2016-04-28</td>\n",
              "      <td>2016-05-28</td>\n",
              "      <td>2016-03-28</td>\n",
              "      <td>2016-05-17</td>\n",
              "      <td>11190</td>\n",
              "      <td>10822</td>\n",
              "      <td>10862</td>\n",
              "      <td>11626</td>\n",
              "      <td>14167</td>\n",
              "      <td>16506</td>\n",
              "      <td>13966</td>\n",
              "      <td>12407</td>\n",
              "      <td>5222</td>\n",
              "      <td>31434</td>\n",
              "      <td>28510</td>\n",
              "    </tr>\n",
              "  </tbody>\n",
              "</table>\n",
              "</div>\n",
              "      <button class=\"colab-df-convert\" onclick=\"convertToInteractive('df-19f4064e-569d-420a-bbfe-1122170e74cd')\"\n",
              "              title=\"Convert this dataframe to an interactive table.\"\n",
              "              style=\"display:none;\">\n",
              "        \n",
              "  <svg xmlns=\"http://www.w3.org/2000/svg\" height=\"24px\"viewBox=\"0 0 24 24\"\n",
              "       width=\"24px\">\n",
              "    <path d=\"M0 0h24v24H0V0z\" fill=\"none\"/>\n",
              "    <path d=\"M18.56 5.44l.94 2.06.94-2.06 2.06-.94-2.06-.94-.94-2.06-.94 2.06-2.06.94zm-11 1L8.5 8.5l.94-2.06 2.06-.94-2.06-.94L8.5 2.5l-.94 2.06-2.06.94zm10 10l.94 2.06.94-2.06 2.06-.94-2.06-.94-.94-2.06-.94 2.06-2.06.94z\"/><path d=\"M17.41 7.96l-1.37-1.37c-.4-.4-.92-.59-1.43-.59-.52 0-1.04.2-1.43.59L10.3 9.45l-7.72 7.72c-.78.78-.78 2.05 0 2.83L4 21.41c.39.39.9.59 1.41.59.51 0 1.02-.2 1.41-.59l7.78-7.78 2.81-2.81c.8-.78.8-2.07 0-2.86zM5.41 20L4 18.59l7.72-7.72 1.47 1.35L5.41 20z\"/>\n",
              "  </svg>\n",
              "      </button>\n",
              "      \n",
              "  <style>\n",
              "    .colab-df-container {\n",
              "      display:flex;\n",
              "      flex-wrap:wrap;\n",
              "      gap: 12px;\n",
              "    }\n",
              "\n",
              "    .colab-df-convert {\n",
              "      background-color: #E8F0FE;\n",
              "      border: none;\n",
              "      border-radius: 50%;\n",
              "      cursor: pointer;\n",
              "      display: none;\n",
              "      fill: #1967D2;\n",
              "      height: 32px;\n",
              "      padding: 0 0 0 0;\n",
              "      width: 32px;\n",
              "    }\n",
              "\n",
              "    .colab-df-convert:hover {\n",
              "      background-color: #E2EBFA;\n",
              "      box-shadow: 0px 1px 2px rgba(60, 64, 67, 0.3), 0px 1px 3px 1px rgba(60, 64, 67, 0.15);\n",
              "      fill: #174EA6;\n",
              "    }\n",
              "\n",
              "    [theme=dark] .colab-df-convert {\n",
              "      background-color: #3B4455;\n",
              "      fill: #D2E3FC;\n",
              "    }\n",
              "\n",
              "    [theme=dark] .colab-df-convert:hover {\n",
              "      background-color: #434B5C;\n",
              "      box-shadow: 0px 1px 3px 1px rgba(0, 0, 0, 0.15);\n",
              "      filter: drop-shadow(0px 1px 2px rgba(0, 0, 0, 0.3));\n",
              "      fill: #FFFFFF;\n",
              "    }\n",
              "  </style>\n",
              "\n",
              "      <script>\n",
              "        const buttonEl =\n",
              "          document.querySelector('#df-19f4064e-569d-420a-bbfe-1122170e74cd button.colab-df-convert');\n",
              "        buttonEl.style.display =\n",
              "          google.colab.kernel.accessAllowed ? 'block' : 'none';\n",
              "\n",
              "        async function convertToInteractive(key) {\n",
              "          const element = document.querySelector('#df-19f4064e-569d-420a-bbfe-1122170e74cd');\n",
              "          const dataTable =\n",
              "            await google.colab.kernel.invokeFunction('convertToInteractive',\n",
              "                                                     [key], {});\n",
              "          if (!dataTable) return;\n",
              "\n",
              "          const docLinkHtml = 'Like what you see? Visit the ' +\n",
              "            '<a target=\"_blank\" href=https://colab.research.google.com/notebooks/data_table.ipynb>data table notebook</a>'\n",
              "            + ' to learn more about interactive tables.';\n",
              "          element.innerHTML = '';\n",
              "          dataTable['output_type'] = 'display_data';\n",
              "          await google.colab.output.renderOutput(dataTable, element);\n",
              "          const docLink = document.createElement('div');\n",
              "          docLink.innerHTML = docLinkHtml;\n",
              "          element.appendChild(docLink);\n",
              "        }\n",
              "      </script>\n",
              "    </div>\n",
              "  </div>\n",
              "  "
            ]
          },
          "metadata": {},
          "execution_count": 32
        }
      ]
    },
    {
      "cell_type": "code",
      "source": [
        "col=[\"B1\", \"B2\", \"B3\", \"B4\", \"B5\", \"B6\", \"B7\", \"B8\", \"B9\", \"B10\", \"B11\"]\n",
        "for i in col:\n",
        "  BaseLimpiaBandas[i]=BaseLimpiaBandas[i].apply(lambda x: x/65455)\n",
        "BaseLimpiaBandas"
      ],
      "metadata": {
        "id": "YCwz13dEfcR7",
        "outputId": "71e86329-86cd-4aa1-88be-8326b158dcd4",
        "colab": {
          "base_uri": "https://localhost:8080/",
          "height": 162
        }
      },
      "execution_count": 60,
      "outputs": [
        {
          "output_type": "execute_result",
          "data": {
            "text/plain": [
              "       Lon       Lat       Date   Date_ref  Date_plus  Date_less Actual_Date  \\\n",
              "0 -102.465  22.18899 2016-04-28 2016-04-28 2016-05-28 2016-03-28  2016-05-17   \n",
              "\n",
              "         B1        B2        B3        B4        B5        B6        B7  \\\n",
              "0  0.170957  0.165335  0.165946  0.177618  0.216439  0.252173  0.213368   \n",
              "\n",
              "        B8       B9       B10       B11  \n",
              "0  0.18955  0.07978  0.480238  0.435566  "
            ],
            "text/html": [
              "\n",
              "  <div id=\"df-cb9b787c-53de-48b0-b331-aa4545303080\">\n",
              "    <div class=\"colab-df-container\">\n",
              "      <div>\n",
              "<style scoped>\n",
              "    .dataframe tbody tr th:only-of-type {\n",
              "        vertical-align: middle;\n",
              "    }\n",
              "\n",
              "    .dataframe tbody tr th {\n",
              "        vertical-align: top;\n",
              "    }\n",
              "\n",
              "    .dataframe thead th {\n",
              "        text-align: right;\n",
              "    }\n",
              "</style>\n",
              "<table border=\"1\" class=\"dataframe\">\n",
              "  <thead>\n",
              "    <tr style=\"text-align: right;\">\n",
              "      <th></th>\n",
              "      <th>Lon</th>\n",
              "      <th>Lat</th>\n",
              "      <th>Date</th>\n",
              "      <th>Date_ref</th>\n",
              "      <th>Date_plus</th>\n",
              "      <th>Date_less</th>\n",
              "      <th>Actual_Date</th>\n",
              "      <th>B1</th>\n",
              "      <th>B2</th>\n",
              "      <th>B3</th>\n",
              "      <th>B4</th>\n",
              "      <th>B5</th>\n",
              "      <th>B6</th>\n",
              "      <th>B7</th>\n",
              "      <th>B8</th>\n",
              "      <th>B9</th>\n",
              "      <th>B10</th>\n",
              "      <th>B11</th>\n",
              "    </tr>\n",
              "  </thead>\n",
              "  <tbody>\n",
              "    <tr>\n",
              "      <th>0</th>\n",
              "      <td>-102.465</td>\n",
              "      <td>22.18899</td>\n",
              "      <td>2016-04-28</td>\n",
              "      <td>2016-04-28</td>\n",
              "      <td>2016-05-28</td>\n",
              "      <td>2016-03-28</td>\n",
              "      <td>2016-05-17</td>\n",
              "      <td>0.170957</td>\n",
              "      <td>0.165335</td>\n",
              "      <td>0.165946</td>\n",
              "      <td>0.177618</td>\n",
              "      <td>0.216439</td>\n",
              "      <td>0.252173</td>\n",
              "      <td>0.213368</td>\n",
              "      <td>0.18955</td>\n",
              "      <td>0.07978</td>\n",
              "      <td>0.480238</td>\n",
              "      <td>0.435566</td>\n",
              "    </tr>\n",
              "  </tbody>\n",
              "</table>\n",
              "</div>\n",
              "      <button class=\"colab-df-convert\" onclick=\"convertToInteractive('df-cb9b787c-53de-48b0-b331-aa4545303080')\"\n",
              "              title=\"Convert this dataframe to an interactive table.\"\n",
              "              style=\"display:none;\">\n",
              "        \n",
              "  <svg xmlns=\"http://www.w3.org/2000/svg\" height=\"24px\"viewBox=\"0 0 24 24\"\n",
              "       width=\"24px\">\n",
              "    <path d=\"M0 0h24v24H0V0z\" fill=\"none\"/>\n",
              "    <path d=\"M18.56 5.44l.94 2.06.94-2.06 2.06-.94-2.06-.94-.94-2.06-.94 2.06-2.06.94zm-11 1L8.5 8.5l.94-2.06 2.06-.94-2.06-.94L8.5 2.5l-.94 2.06-2.06.94zm10 10l.94 2.06.94-2.06 2.06-.94-2.06-.94-.94-2.06-.94 2.06-2.06.94z\"/><path d=\"M17.41 7.96l-1.37-1.37c-.4-.4-.92-.59-1.43-.59-.52 0-1.04.2-1.43.59L10.3 9.45l-7.72 7.72c-.78.78-.78 2.05 0 2.83L4 21.41c.39.39.9.59 1.41.59.51 0 1.02-.2 1.41-.59l7.78-7.78 2.81-2.81c.8-.78.8-2.07 0-2.86zM5.41 20L4 18.59l7.72-7.72 1.47 1.35L5.41 20z\"/>\n",
              "  </svg>\n",
              "      </button>\n",
              "      \n",
              "  <style>\n",
              "    .colab-df-container {\n",
              "      display:flex;\n",
              "      flex-wrap:wrap;\n",
              "      gap: 12px;\n",
              "    }\n",
              "\n",
              "    .colab-df-convert {\n",
              "      background-color: #E8F0FE;\n",
              "      border: none;\n",
              "      border-radius: 50%;\n",
              "      cursor: pointer;\n",
              "      display: none;\n",
              "      fill: #1967D2;\n",
              "      height: 32px;\n",
              "      padding: 0 0 0 0;\n",
              "      width: 32px;\n",
              "    }\n",
              "\n",
              "    .colab-df-convert:hover {\n",
              "      background-color: #E2EBFA;\n",
              "      box-shadow: 0px 1px 2px rgba(60, 64, 67, 0.3), 0px 1px 3px 1px rgba(60, 64, 67, 0.15);\n",
              "      fill: #174EA6;\n",
              "    }\n",
              "\n",
              "    [theme=dark] .colab-df-convert {\n",
              "      background-color: #3B4455;\n",
              "      fill: #D2E3FC;\n",
              "    }\n",
              "\n",
              "    [theme=dark] .colab-df-convert:hover {\n",
              "      background-color: #434B5C;\n",
              "      box-shadow: 0px 1px 3px 1px rgba(0, 0, 0, 0.15);\n",
              "      filter: drop-shadow(0px 1px 2px rgba(0, 0, 0, 0.3));\n",
              "      fill: #FFFFFF;\n",
              "    }\n",
              "  </style>\n",
              "\n",
              "      <script>\n",
              "        const buttonEl =\n",
              "          document.querySelector('#df-cb9b787c-53de-48b0-b331-aa4545303080 button.colab-df-convert');\n",
              "        buttonEl.style.display =\n",
              "          google.colab.kernel.accessAllowed ? 'block' : 'none';\n",
              "\n",
              "        async function convertToInteractive(key) {\n",
              "          const element = document.querySelector('#df-cb9b787c-53de-48b0-b331-aa4545303080');\n",
              "          const dataTable =\n",
              "            await google.colab.kernel.invokeFunction('convertToInteractive',\n",
              "                                                     [key], {});\n",
              "          if (!dataTable) return;\n",
              "\n",
              "          const docLinkHtml = 'Like what you see? Visit the ' +\n",
              "            '<a target=\"_blank\" href=https://colab.research.google.com/notebooks/data_table.ipynb>data table notebook</a>'\n",
              "            + ' to learn more about interactive tables.';\n",
              "          element.innerHTML = '';\n",
              "          dataTable['output_type'] = 'display_data';\n",
              "          await google.colab.output.renderOutput(dataTable, element);\n",
              "          const docLink = document.createElement('div');\n",
              "          docLink.innerHTML = docLinkHtml;\n",
              "          element.appendChild(docLink);\n",
              "        }\n",
              "      </script>\n",
              "    </div>\n",
              "  </div>\n",
              "  "
            ]
          },
          "metadata": {},
          "execution_count": 60
        }
      ]
    },
    {
      "cell_type": "markdown",
      "source": [
        "#Predicciones"
      ],
      "metadata": {
        "id": "xfa7zzDeZ1gr"
      }
    },
    {
      "cell_type": "markdown",
      "source": [
        "##Modelos"
      ],
      "metadata": {
        "id": "K1jISbOhb70-"
      }
    },
    {
      "cell_type": "code",
      "source": [
        "lrOUSA=pickle.load(open('LinearOxigenoUSA.sav','rb'))\n",
        "lrNUSA=pickle.load(open('LinearNitrogenoUSA.sav','rb'))\n",
        "lrFUSA=pickle.load(open('LinearFosforoUSA.sav','rb'))\n",
        "lrCOUSA=pickle.load(open('LinearConductividadUSA.sav','rb'))\n",
        "lrCLUSA=pickle.load(open('LinearClorofilaUSA.sav','rb'))\n",
        "lrOMex=pickle.load(open('LinearOxigenoMéxicoLent.sav','rb'))\n",
        "lrNMex=pickle.load(open('LinearNitrogenoMéxicoLent.sav','rb'))\n",
        "lrCOMex=pickle.load(open('LinearConductividadMéxicoLent.sav','rb'))\n",
        "lrTMex=pickle.load(open('LinearTurbiedadMéxicoLent.sav','rb'))\n",
        "lrFMex=pickle.load(open('LinearFosforoMéxicoLent.sav','rb'))"
      ],
      "metadata": {
        "id": "E_Tb3GFMZs2P"
      },
      "execution_count": 42,
      "outputs": []
    },
    {
      "cell_type": "code",
      "source": [
        "OxiUSAArr=[]\n",
        "OxiMexArr=[]\n",
        "NitUSAArr=[]\n",
        "NitMexArr=[]\n",
        "CondUSAArr=[]\n",
        "CondMexArr=[]\n",
        "FosfUSAArr=[]\n",
        "FosfMexArr=[]\n",
        "ClorofUSAArr=[]\n",
        "TurbMexArr=[]\n",
        "for i in range(0,int(n)):\n",
        "  OxiUSAArr.append(lrOUSA.predict(np.array(BaseLimpiaBandas[['B1','B2','B3','B4','B5','B6','B7','B8','B9','B10','B11']].iloc[i]).reshape(1,-1)))\n",
        "OxiUSAArr"
      ],
      "metadata": {
        "id": "SyOe8sYZc7s1",
        "outputId": "855de886-d186-4037-abd4-b0c908b56bae",
        "colab": {
          "base_uri": "https://localhost:8080/"
        }
      },
      "execution_count": 59,
      "outputs": [
        {
          "output_type": "stream",
          "name": "stderr",
          "text": [
            "/usr/local/lib/python3.7/dist-packages/sklearn/base.py:451: UserWarning: X does not have valid feature names, but LinearRegression was fitted with feature names\n",
            "  \"X does not have valid feature names, but\"\n"
          ]
        },
        {
          "output_type": "execute_result",
          "data": {
            "text/plain": [
              "[array([-314671.16145333])]"
            ]
          },
          "metadata": {},
          "execution_count": 59
        }
      ]
    },
    {
      "cell_type": "code",
      "source": [
        "BaseLimpiaBandas[['B1','B2','B3','B4','B5','B6','B7','B8','B9','B10','B11']]"
      ],
      "metadata": {
        "id": "UgCqfqvBeRHC",
        "outputId": "54fa1d26-6544-477a-91b2-2fc44e5f1345",
        "colab": {
          "base_uri": "https://localhost:8080/",
          "height": 81
        }
      },
      "execution_count": 57,
      "outputs": [
        {
          "output_type": "execute_result",
          "data": {
            "text/plain": [
              "      B1     B2     B3     B4     B5     B6     B7     B8    B9    B10    B11\n",
              "0  11190  10822  10862  11626  14167  16506  13966  12407  5222  31434  28510"
            ],
            "text/html": [
              "\n",
              "  <div id=\"df-9dff3f3f-147b-4ef4-9791-2716d76e93ba\">\n",
              "    <div class=\"colab-df-container\">\n",
              "      <div>\n",
              "<style scoped>\n",
              "    .dataframe tbody tr th:only-of-type {\n",
              "        vertical-align: middle;\n",
              "    }\n",
              "\n",
              "    .dataframe tbody tr th {\n",
              "        vertical-align: top;\n",
              "    }\n",
              "\n",
              "    .dataframe thead th {\n",
              "        text-align: right;\n",
              "    }\n",
              "</style>\n",
              "<table border=\"1\" class=\"dataframe\">\n",
              "  <thead>\n",
              "    <tr style=\"text-align: right;\">\n",
              "      <th></th>\n",
              "      <th>B1</th>\n",
              "      <th>B2</th>\n",
              "      <th>B3</th>\n",
              "      <th>B4</th>\n",
              "      <th>B5</th>\n",
              "      <th>B6</th>\n",
              "      <th>B7</th>\n",
              "      <th>B8</th>\n",
              "      <th>B9</th>\n",
              "      <th>B10</th>\n",
              "      <th>B11</th>\n",
              "    </tr>\n",
              "  </thead>\n",
              "  <tbody>\n",
              "    <tr>\n",
              "      <th>0</th>\n",
              "      <td>11190</td>\n",
              "      <td>10822</td>\n",
              "      <td>10862</td>\n",
              "      <td>11626</td>\n",
              "      <td>14167</td>\n",
              "      <td>16506</td>\n",
              "      <td>13966</td>\n",
              "      <td>12407</td>\n",
              "      <td>5222</td>\n",
              "      <td>31434</td>\n",
              "      <td>28510</td>\n",
              "    </tr>\n",
              "  </tbody>\n",
              "</table>\n",
              "</div>\n",
              "      <button class=\"colab-df-convert\" onclick=\"convertToInteractive('df-9dff3f3f-147b-4ef4-9791-2716d76e93ba')\"\n",
              "              title=\"Convert this dataframe to an interactive table.\"\n",
              "              style=\"display:none;\">\n",
              "        \n",
              "  <svg xmlns=\"http://www.w3.org/2000/svg\" height=\"24px\"viewBox=\"0 0 24 24\"\n",
              "       width=\"24px\">\n",
              "    <path d=\"M0 0h24v24H0V0z\" fill=\"none\"/>\n",
              "    <path d=\"M18.56 5.44l.94 2.06.94-2.06 2.06-.94-2.06-.94-.94-2.06-.94 2.06-2.06.94zm-11 1L8.5 8.5l.94-2.06 2.06-.94-2.06-.94L8.5 2.5l-.94 2.06-2.06.94zm10 10l.94 2.06.94-2.06 2.06-.94-2.06-.94-.94-2.06-.94 2.06-2.06.94z\"/><path d=\"M17.41 7.96l-1.37-1.37c-.4-.4-.92-.59-1.43-.59-.52 0-1.04.2-1.43.59L10.3 9.45l-7.72 7.72c-.78.78-.78 2.05 0 2.83L4 21.41c.39.39.9.59 1.41.59.51 0 1.02-.2 1.41-.59l7.78-7.78 2.81-2.81c.8-.78.8-2.07 0-2.86zM5.41 20L4 18.59l7.72-7.72 1.47 1.35L5.41 20z\"/>\n",
              "  </svg>\n",
              "      </button>\n",
              "      \n",
              "  <style>\n",
              "    .colab-df-container {\n",
              "      display:flex;\n",
              "      flex-wrap:wrap;\n",
              "      gap: 12px;\n",
              "    }\n",
              "\n",
              "    .colab-df-convert {\n",
              "      background-color: #E8F0FE;\n",
              "      border: none;\n",
              "      border-radius: 50%;\n",
              "      cursor: pointer;\n",
              "      display: none;\n",
              "      fill: #1967D2;\n",
              "      height: 32px;\n",
              "      padding: 0 0 0 0;\n",
              "      width: 32px;\n",
              "    }\n",
              "\n",
              "    .colab-df-convert:hover {\n",
              "      background-color: #E2EBFA;\n",
              "      box-shadow: 0px 1px 2px rgba(60, 64, 67, 0.3), 0px 1px 3px 1px rgba(60, 64, 67, 0.15);\n",
              "      fill: #174EA6;\n",
              "    }\n",
              "\n",
              "    [theme=dark] .colab-df-convert {\n",
              "      background-color: #3B4455;\n",
              "      fill: #D2E3FC;\n",
              "    }\n",
              "\n",
              "    [theme=dark] .colab-df-convert:hover {\n",
              "      background-color: #434B5C;\n",
              "      box-shadow: 0px 1px 3px 1px rgba(0, 0, 0, 0.15);\n",
              "      filter: drop-shadow(0px 1px 2px rgba(0, 0, 0, 0.3));\n",
              "      fill: #FFFFFF;\n",
              "    }\n",
              "  </style>\n",
              "\n",
              "      <script>\n",
              "        const buttonEl =\n",
              "          document.querySelector('#df-9dff3f3f-147b-4ef4-9791-2716d76e93ba button.colab-df-convert');\n",
              "        buttonEl.style.display =\n",
              "          google.colab.kernel.accessAllowed ? 'block' : 'none';\n",
              "\n",
              "        async function convertToInteractive(key) {\n",
              "          const element = document.querySelector('#df-9dff3f3f-147b-4ef4-9791-2716d76e93ba');\n",
              "          const dataTable =\n",
              "            await google.colab.kernel.invokeFunction('convertToInteractive',\n",
              "                                                     [key], {});\n",
              "          if (!dataTable) return;\n",
              "\n",
              "          const docLinkHtml = 'Like what you see? Visit the ' +\n",
              "            '<a target=\"_blank\" href=https://colab.research.google.com/notebooks/data_table.ipynb>data table notebook</a>'\n",
              "            + ' to learn more about interactive tables.';\n",
              "          element.innerHTML = '';\n",
              "          dataTable['output_type'] = 'display_data';\n",
              "          await google.colab.output.renderOutput(dataTable, element);\n",
              "          const docLink = document.createElement('div');\n",
              "          docLink.innerHTML = docLinkHtml;\n",
              "          element.appendChild(docLink);\n",
              "        }\n",
              "      </script>\n",
              "    </div>\n",
              "  </div>\n",
              "  "
            ]
          },
          "metadata": {},
          "execution_count": 57
        }
      ]
    },
    {
      "cell_type": "markdown",
      "source": [
        "##Tabla"
      ],
      "metadata": {
        "id": "9zfuZzcPb88V"
      }
    },
    {
      "cell_type": "code",
      "source": [
        "Modelo=['USA','México']*n\n"
      ],
      "metadata": {
        "id": "sjzkHecDbOCL",
        "outputId": "02119f69-c3c3-4966-dd0e-1101514679af",
        "colab": {
          "base_uri": "https://localhost:8080/",
          "height": 134
        }
      },
      "execution_count": 43,
      "outputs": [
        {
          "output_type": "error",
          "ename": "SyntaxError",
          "evalue": "ignored",
          "traceback": [
            "\u001b[0;36m  File \u001b[0;32m\"<ipython-input-43-0a2d961c6bca>\"\u001b[0;36m, line \u001b[0;32m1\u001b[0m\n\u001b[0;31m    Modelo=]\u001b[0m\n\u001b[0m           ^\u001b[0m\n\u001b[0;31mSyntaxError\u001b[0m\u001b[0;31m:\u001b[0m invalid syntax\n"
          ]
        }
      ]
    }
  ]
}